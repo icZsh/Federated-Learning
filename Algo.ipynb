{
 "cells": [
  {
   "cell_type": "code",
   "execution_count": 1,
   "id": "24ba51e5",
   "metadata": {},
   "outputs": [],
   "source": [
    "import pandas as pd\n",
    "import numpy as np\n",
    "from sklearn.model_selection import train_test_split\n",
    "import torch\n",
    "import torch.nn as nn\n",
    "import torch.nn.functional as F\n",
    "from torch.utils.data import TensorDataset,DataLoader\n",
    "import syft as sy\n",
    "import math\n",
    "import sklearn.metrics as metrics      "
   ]
  },
  {
   "cell_type": "code",
   "execution_count": 2,
   "id": "e1cb0365",
   "metadata": {},
   "outputs": [],
   "source": [
    "admissions = pd.read_csv('./mimic-iii-clinical-database-demo-1.4/ADMISSIONS.csv')\n",
    "patients = pd.read_csv('./mimic-iii-clinical-database-demo-1.4/PATIENTS.csv')\n",
    "drgcodes = pd.read_csv('./mimic-iii-clinical-database-demo-1.4/DRGCODES.csv')\n",
    "prescriptions = pd.read_csv('./mimic-iii-clinical-database-demo-1.4/PRESCRIPTIONS.csv')"
   ]
  },
  {
   "cell_type": "code",
   "execution_count": 3,
   "id": "dee20b2d",
   "metadata": {},
   "outputs": [],
   "source": [
    "admissions['admittime'] = pd.to_datetime(admissions['admittime'])\n",
    "patients['dob'] = pd.to_datetime(patients['dob'])\n",
    "prescriptions['startdate'] = pd.to_datetime(prescriptions['startdate'])"
   ]
  },
  {
   "cell_type": "code",
   "execution_count": 4,
   "id": "8580b81a",
   "metadata": {},
   "outputs": [],
   "source": [
    "temp_df = pd.merge(admissions,patients,on='subject_id')\n",
    "temp_df['age'] = temp_df['admittime'].dt.year - temp_df['dob'].dt.year\n",
    "temp_df = temp_df[temp_df['age']<=100]"
   ]
  },
  {
   "cell_type": "code",
   "execution_count": 5,
   "id": "8dfdb7a2",
   "metadata": {},
   "outputs": [],
   "source": [
    "mortality_list = []\n",
    "for x in temp_df['deathtime']:\n",
    "    if x!=x:\n",
    "        mortality_list.append(0)\n",
    "    else:\n",
    "        mortality_list.append(1)\n",
    "temp_df['mortality'] = mortality_list"
   ]
  },
  {
   "cell_type": "code",
   "execution_count": 7,
   "id": "c722ea89",
   "metadata": {},
   "outputs": [],
   "source": [
    "df = pd.merge(temp_df,prescriptions,on='subject_id')\n",
    "df = df[pd.notnull(df['icustay_id'])]\n",
    "df['durg_time_diff'] = df['startdate']-pd.to_datetime(df['admittime'].dt.date)\n",
    "df = df[df['durg_time_diff'] <= '2days']"
   ]
  },
  {
   "cell_type": "code",
   "execution_count": 8,
   "id": "896abe6c",
   "metadata": {},
   "outputs": [],
   "source": [
    "data = df[['subject_id','drug','mortality']]\n",
    "data = data.reset_index().drop('index',axis=1)"
   ]
  },
  {
   "cell_type": "code",
   "execution_count": 9,
   "id": "cb768f42",
   "metadata": {},
   "outputs": [],
   "source": [
    "data['drug'] = data['drug'].astype('category')\n",
    "data = pd.get_dummies(data,prefix='', prefix_sep='')"
   ]
  },
  {
   "cell_type": "code",
   "execution_count": 11,
   "id": "b1e5b0fa",
   "metadata": {},
   "outputs": [],
   "source": [
    "shuffled = data.sample(frac=1)\n",
    "result = np.array_split(shuffled, 5)"
   ]
  },
  {
   "cell_type": "code",
   "execution_count": 12,
   "id": "90c97be4",
   "metadata": {},
   "outputs": [],
   "source": [
    "def train_prep(df):\n",
    "    train, validate, test = np.split(df.sample(frac=1), [int(.6*len(df)), int(.8*len(df))])\n",
    "    x_train = train.iloc[:,2:]\n",
    "    y_train = train['mortality']\n",
    "    x_test = test.iloc[:,2:]\n",
    "    y_test = test['mortality']\n",
    "    x_val = validate.iloc[:,2:]\n",
    "    y_val = validate['mortality']\n",
    "    x_train = x_train.values\n",
    "    y_train = y_train.values\n",
    "    x_test = x_test.values\n",
    "    y_test = y_test.values\n",
    "    x_val = x_val.values\n",
    "    y_val = y_val.values\n",
    "    x_train = torch.from_numpy(x_train.astype(np.float32))\n",
    "    y_train = torch.from_numpy(y_train.astype(np.float32)).view(-1,1)\n",
    "    return x_train,y_train,x_test,y_test,x_val,y_val"
   ]
  },
  {
   "cell_type": "code",
   "execution_count": 13,
   "id": "70376bec",
   "metadata": {},
   "outputs": [],
   "source": [
    "class Net(nn.Module):\n",
    "    \n",
    "    def __init__(self,input_shape):\n",
    "        super(Net,self).__init__()\n",
    "        self.fc1 = nn.Linear(input_shape, 256)\n",
    "        self.relu1 = nn.ReLU()\n",
    "        self.dropout = nn.Dropout(0.2)\n",
    "        self.fc2 = nn.Linear(256, 100)\n",
    "        self.dropout = nn.Dropout(0.2)\n",
    "        self.prelu = nn.PReLU(1)\n",
    "        self.out = nn.Linear(100, 1)\n",
    "        self.out_act = nn.Sigmoid()\n",
    "        self.fc3 = nn.Linear(100,1)\n",
    "\n",
    "    def forward(self,x):\n",
    "        a1 = self.fc1(x)\n",
    "        h1 = self.relu1(a1)\n",
    "        dout = self.dropout(h1)\n",
    "        a2 = self.fc2(dout)\n",
    "        h2 = self.prelu(a2)\n",
    "        dout2 = self.dropout(h2)\n",
    "        a3 = self.out(h2)\n",
    "        y = self.out_act(a3)\n",
    "        return y\n",
    "#         x = torch.relu(self.fc1(x))\n",
    "#         x = torch.relu(self.fc2(x))\n",
    "#         x = torch.sigmoid(self.fc3(x))\n",
    "#         return x"
   ]
  },
  {
   "cell_type": "code",
   "execution_count": 14,
   "id": "42a2207c",
   "metadata": {},
   "outputs": [],
   "source": [
    "learning_rate = 0.01\n",
    "epochs = 500\n",
    "loss_fn = nn.BCELoss()"
   ]
  },
  {
   "cell_type": "code",
   "execution_count": 15,
   "id": "31a39854",
   "metadata": {},
   "outputs": [],
   "source": [
    "AllModels =list()\n",
    "for i in range(5):\n",
    "    model = Net(input_shape = result[i].shape[1]-2)\n",
    "    AllModels.append(model)"
   ]
  },
  {
   "cell_type": "code",
   "execution_count": 18,
   "id": "df624728",
   "metadata": {},
   "outputs": [],
   "source": [
    "y_test_dict = {}\n",
    "prediction = {}\n",
    "old_params = {}\n",
    "para_dict={}\n",
    "for k in range(10):\n",
    "    for i in range(5):\n",
    "        for j in range(epochs+1):\n",
    "            model = AllModels[i]\n",
    "            optimizer = torch.optim.SGD(model.parameters(),lr=learning_rate)\n",
    "            x_train,y_train,x_test,y_test,x_val,y_val = train_prep(result[i])\n",
    "            y_test_dict[i] = y_test\n",
    "            y_pred = model(x_train)\n",
    "            loss = loss_fn(y_pred,y_train)\n",
    "            optimizer.zero_grad()\n",
    "            loss.backward()\n",
    "            optimizer.step()\n",
    "        predicted = model(torch.tensor(x_test,dtype=torch.float32)).detach()\n",
    "        prediction[i] = predicted\n",
    "        std = [torch.std(v) for _,v in prediction.items()]\n",
    "        weight = [std[i].detach().numpy().item()*len(result[i]) for i in range(len(std))]\n",
    "\n",
    "    for s in range(5):\n",
    "        for name, params in AllModels[s].named_parameters():\n",
    "            old_params[name] = params.clone().detach()\n",
    "            if name not in para_dict.keys():\n",
    "                para_dict[name] = old_params[name]\n",
    "            else:\n",
    "                para_dict[name] += old_params[name]\n",
    "    \n",
    "    for s in range(5):          \n",
    "        for name,params in para_dict.items():\n",
    "            para_dict[name] = params * weight[s] / sum(weight)\n",
    "        for name, params in AllModels[s].named_parameters():\n",
    "            params.data.copy_(para_dict[name])"
   ]
  },
  {
   "cell_type": "code",
   "execution_count": 69,
   "id": "e668b0c3",
   "metadata": {},
   "outputs": [],
   "source": [
    "ytest_dict = y_test_dict.copy()\n",
    "\n",
    "ytest = np.concatenate((ytest_dict[0], ytest_dict[1],ytest_dict[2],ytest_dict[3],ytest_dict[4]))"
   ]
  },
  {
   "cell_type": "code",
   "execution_count": 70,
   "id": "cf55b810",
   "metadata": {},
   "outputs": [],
   "source": [
    "preds = prediction.copy()\n",
    "\n",
    "preds = np.concatenate((preds[0], preds[1],preds[2],preds[3],preds[4]))"
   ]
  },
  {
   "cell_type": "code",
   "execution_count": 77,
   "id": "657af623",
   "metadata": {},
   "outputs": [],
   "source": [
    "fpr, tpr, threshold = metrics.roc_curve(ytest, preds)\n",
    "roc_auc = metrics.auc(fpr, tpr)"
   ]
  },
  {
   "cell_type": "code",
   "execution_count": 80,
   "id": "ba26ab03",
   "metadata": {},
   "outputs": [
    {
     "data": {
      "image/png": "[encoded data removed]",
      "text/plain": [
       "<Figure size 432x288 with 1 Axes>"
      ]
     },
     "metadata": {
      "needs_background": "light"
     },
     "output_type": "display_data"
    }
   ],
   "source": [
    "# method I: plt\n",
    "import matplotlib.pyplot as plt\n",
    "plt.title('Receiver Operating Characteristic')\n",
    "plt.plot(fpr, tpr, 'b', label = 'AUC = %0.2f' % roc_auc)\n",
    "plt.legend(loc = 'lower right')\n",
    "plt.plot([0, 1], [0, 1],'r--')\n",
    "plt.xlim([0, 1])\n",
    "plt.ylim([0, 1])\n",
    "plt.ylabel('True Positive Rate')\n",
    "plt.xlabel('False Positive Rate')\n",
    "plt.show()"
   ]
  }
 ],
 "metadata": {
  "kernelspec": {
   "display_name": "Python 3 (ipykernel)",
   "language": "python",
   "name": "python3"
  },
  "language_info": {
   "codemirror_mode": {
    "name": "ipython",
    "version": 3
   },
   "file_extension": ".py",
   "mimetype": "text/x-python",
   "name": "python",
   "nbconvert_exporter": "python",
   "pygments_lexer": "ipython3",
   "version": "3.7.10"
  }
 },
 "nbformat": 4,
 "nbformat_minor": 5
}
